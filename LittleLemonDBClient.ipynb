{
 "cells": [
  {
   "cell_type": "code",
   "execution_count": null,
   "metadata": {},
   "outputs": [],
   "source": [
    "%pip install mysql-connector-python"
   ]
  },
  {
   "cell_type": "code",
   "execution_count": 4,
   "metadata": {},
   "outputs": [],
   "source": [
    "import mysql.connector as connector"
   ]
  },
  {
   "cell_type": "code",
   "execution_count": 14,
   "metadata": {},
   "outputs": [],
   "source": [
    "dbuser = 'your_username'\n",
    "dbpwd = 'your_password'\n",
    "dbname = 'littlelemondb'"
   ]
  },
  {
   "cell_type": "code",
   "execution_count": 15,
   "metadata": {},
   "outputs": [],
   "source": [
    "\n",
    "connection = connector.connect(user=dbuser, password=dbpwd, db=dbname)"
   ]
  },
  {
   "cell_type": "code",
   "execution_count": 16,
   "metadata": {},
   "outputs": [],
   "source": [
    "cursor = connection.cursor()"
   ]
  },
  {
   "cell_type": "code",
   "execution_count": null,
   "metadata": {},
   "outputs": [],
   "source": [
    "show_tables_query = 'SHOW TABLES'\n",
    "\n",
    "cursor.execute(show_tables_query)\n",
    "\n",
    "result = cursor.fetchall()\n",
    "\n",
    "for table in result:\n",
    "    print(table)"
   ]
  },
  {
   "cell_type": "code",
   "execution_count": 17,
   "metadata": {},
   "outputs": [
    {
     "name": "stdout",
     "output_type": "stream",
     "text": [
      "('John Mane', '1234567890', 'john@email.com')\n",
      "('Jane Chukk', '1234567891', 'jane@email.com')\n",
      "('Sam Francis', '1234567892', 'sam@email.com')\n",
      "('Sara Chills', '1234567893', 'sara@email.com')\n",
      "('Tom Hanks', '1234567894', 'tom@email.com')\n",
      "('Tina Toddle', '1234567895', 'tina@email.com')\n",
      "('Sara Chills', '1234567893', 'sara@email.com')\n",
      "('Tina Toddle', '1234567895', 'tina@email.com')\n",
      "('Jane Chukk', '1234567891', 'jane@email.com')\n",
      "('Sam Francis', '1234567892', 'sam@email.com')\n",
      "('John Mane', '1234567890', 'john@email.com')\n",
      "('Jane Chukk', '1234567891', 'jane@email.com')\n",
      "('Sam Francis', '1234567892', 'sam@email.com')\n",
      "('Sara Chills', '1234567893', 'sara@email.com')\n",
      "('Tom Hanks', '1234567894', 'tom@email.com')\n",
      "('Mike Pence', '1234567896', 'mike@email.com')\n",
      "('Mila Jones', '1234567897', 'mila@email.com')\n",
      "('Jack Withman', '1234567898', 'jack@email.com')\n",
      "('Jill Klanm', '1234567899', 'jill@email.com')\n",
      "('Mike Pence', '1234567896', 'mike@email.com')\n"
     ]
    }
   ],
   "source": [
    "# Task 3\n",
    "# Query with table JOIN\n",
    "\n",
    "# For the third and final task, Little Lemon need you to return specific details from your database. They require the full name and contact details for every customer that has placed an order greater than $60 for a promotional campaign. \n",
    "\n",
    "customer_query = '''\n",
    "SELECT c.Name, c.ContactNumber, c.Email\n",
    "FROM Customers c\n",
    "INNER JOIN Orders o ON c.CustomerID = o.CustomerID\n",
    "WHERE o.TotalCost > 60;\n",
    "'''\n",
    "\n",
    "cursor.execute(customer_query)\n",
    "\n",
    "result = cursor.fetchall()\n",
    "\n",
    "for customer in result:\n",
    "    print(customer)"
   ]
  }
 ],
 "metadata": {
  "kernelspec": {
   "display_name": "Python 3 (ipykernel)",
   "language": "python",
   "name": "python3"
  },
  "language_info": {
   "codemirror_mode": {
    "name": "ipython",
    "version": 3
   },
   "file_extension": ".py",
   "mimetype": "text/x-python",
   "name": "python",
   "nbconvert_exporter": "python",
   "pygments_lexer": "ipython3",
   "version": "3.11.5"
  }
 },
 "nbformat": 4,
 "nbformat_minor": 4
}
